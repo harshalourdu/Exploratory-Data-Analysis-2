{
 "cells": [
  {
   "cell_type": "code",
   "execution_count": null,
   "metadata": {},
   "outputs": [],
   "source": [
    "# Q1. Load the flight price dataset and examine its dimensions. How many rows and columns does the dataset have?\n",
    "\n",
    "import pandas as pd\n",
    "\n",
    "# Load the dataset\n",
    "df = pd.read_csv(\"flight_price_data.csv\")\n",
    "\n",
    "# Get the dimensions of the dataset (rows, columns)\n",
    "rows, cols = df.shape\n",
    "print(f\"The dataset has {rows} rows and {cols} columns.\")\n"
   ]
  },
  {
   "cell_type": "code",
   "execution_count": null,
   "metadata": {},
   "outputs": [],
   "source": [
    "# Q2. What is the distribution of flight prices in the dataset? Create a histogram to visualize the distribution.\n",
    "\n",
    "import matplotlib.pyplot as plt\n",
    "\n",
    "# Plot the histogram of flight prices\n",
    "plt.figure(figsize=(10, 6))\n",
    "plt.hist(df['Price'], bins=30, edgecolor='black', alpha=0.7)\n",
    "plt.title('Distribution of Flight Prices')\n",
    "plt.xlabel('Price')\n",
    "plt.ylabel('Frequency')\n",
    "plt.show()\n"
   ]
  },
  {
   "cell_type": "code",
   "execution_count": null,
   "metadata": {},
   "outputs": [],
   "source": [
    "# Q3. What is the range of prices in the dataset? What is the minimum and maximum price?\n",
    "\n",
    "min_price = df['Price'].min()\n",
    "max_price = df['Price'].max()\n",
    "price_range = max_price - min_price\n",
    "\n",
    "print(f\"The minimum price is {min_price}, the maximum price is {max_price}, and the price range is {price_range}.\")\n"
   ]
  },
  {
   "cell_type": "code",
   "execution_count": null,
   "metadata": {},
   "outputs": [],
   "source": [
    "# Q4. How does the price of flights vary by airline? Create a boxplot to compare the prices of different airlines.\n",
    "\n",
    "import seaborn as sns\n",
    "\n",
    "# Create a boxplot of flight prices by airline\n",
    "plt.figure(figsize=(12, 6))\n",
    "sns.boxplot(data=df, x='Airline', y='Price')\n",
    "plt.title('Flight Price Distribution by Airline')\n",
    "plt.xlabel('Airline')\n",
    "plt.ylabel('Price')\n",
    "plt.xticks(rotation=45)\n",
    "plt.show()\n"
   ]
  },
  {
   "cell_type": "code",
   "execution_count": null,
   "metadata": {},
   "outputs": [],
   "source": [
    "# Q5. Are there any outliers in the dataset? Identify any potential outliers using a boxplot and describe how they may impact your analysis.\n",
    "\n",
    "# Create a boxplot to visually identify outliers\n",
    "plt.figure(figsize=(10, 6))\n",
    "sns.boxplot(df['Price'])\n",
    "plt.title('Boxplot of Flight Prices')\n",
    "plt.xlabel('Price')\n",
    "plt.show()\n",
    "\n",
    "# Get the statistics to detect outliers\n",
    "Q1 = df['Price'].quantile(0.25)\n",
    "Q3 = df['Price'].quantile(0.75)\n",
    "IQR = Q3 - Q1\n",
    "\n",
    "# Define outlier bounds\n",
    "lower_bound = Q1 - 1.5 * IQR\n",
    "upper_bound = Q3 + 1.5 * IQR\n",
    "\n",
    "# Identify outliers\n",
    "outliers = df[(df['Price'] < lower_bound) | (df['Price'] > upper_bound)]\n",
    "print(f\"Potential outliers:\\n{outliers}\")\n"
   ]
  },
  {
   "cell_type": "code",
   "execution_count": null,
   "metadata": {},
   "outputs": [],
   "source": [
    "# Q6. You are working for a travel agency, and your boss has asked you to analyze the Flight Price dataset to identify the peak travel season. What features would you analyze to identify the peak season, and how would you present your findings to your boss?\n",
    "\n",
    "# Extract month from the date if there's a 'Date' column in the dataset\n",
    "df['Month'] = pd.to_datetime(df['Date']).dt.month\n",
    "\n",
    "# Calculate the average price by month\n",
    "avg_price_by_month = df.groupby('Month')['Price'].mean()\n",
    "\n",
    "# Plot the average price by month\n",
    "plt.figure(figsize=(10, 6))\n",
    "avg_price_by_month.plot(kind='bar', color='skyblue')\n",
    "plt.title('Average Flight Price by Month')\n",
    "plt.xlabel('Month')\n",
    "plt.ylabel('Average Price')\n",
    "plt.xticks(rotation=0)\n",
    "plt.show()\n"
   ]
  },
  {
   "cell_type": "code",
   "execution_count": null,
   "metadata": {},
   "outputs": [],
   "source": [
    "# Q7. You are a data analyst for a flight booking website, and you have been asked to analyze the Flight Price dataset to identify any trends in flight prices. What features would you analyze to identify these trends, and what visualizations would you use to present your findings to your team?\n",
    "\n",
    "# Trend of flight prices by day of the week\n",
    "df['Day of Week'] = pd.to_datetime(df['Date']).dt.dayofweek\n",
    "avg_price_by_day = df.groupby('Day of Week')['Price'].mean()\n",
    "\n",
    "plt.figure(figsize=(10, 6))\n",
    "avg_price_by_day.plot(kind='line', marker='o', color='green')\n",
    "plt.title('Average Flight Price by Day of Week')\n",
    "plt.xlabel('Day of Week')\n",
    "plt.ylabel('Average Price')\n",
    "plt.xticks(range(7), ['Mon', 'Tue', 'Wed', 'Thu', 'Fri', 'Sat', 'Sun'])\n",
    "plt.show()\n"
   ]
  },
  {
   "cell_type": "code",
   "execution_count": null,
   "metadata": {},
   "outputs": [],
   "source": [
    "# Q8. You are a data scientist working for an airline company, and you have been asked to analyze the Flight Price dataset to identify the factors that affect flight prices. What features would you analyze to identify these factors, and how would you present your findings to the management team?\n",
    "\n",
    "# Correlation heatmap to visualize relationships between numerical features\n",
    "corr_matrix = df[['Price', 'Duration', 'Distance', 'Month', 'Day of Week']].corr()\n",
    "\n",
    "import seaborn as sns\n",
    "plt.figure(figsize=(8, 6))\n",
    "sns.heatmap(corr_matrix, annot=True, cmap='coolwarm', fmt='.2f')\n",
    "plt.title('Correlation Matrix for Factors Affecting Flight Prices')\n",
    "plt.show()\n"
   ]
  }
 ],
 "metadata": {
  "language_info": {
   "name": "python"
  }
 },
 "nbformat": 4,
 "nbformat_minor": 2
}
